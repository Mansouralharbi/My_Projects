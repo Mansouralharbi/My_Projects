{
 "cells": [
  {
   "cell_type": "code",
   "execution_count": 239,
   "metadata": {},
   "outputs": [],
   "source": [
    "#intoduction \n",
    "#This project is studying  dataset called No show -appointment, which is storing multi patientdata like patient Id\n",
    "#,gender , appointment , hospital locations ,age. This dataset has been explored by python code. For example, the \n",
    "#columns number are 14 in this dataset and different types of data are stored. The maximum age of patient is 115.\n",
    "#Also, it show there are  81 different locations for clinics and hospital.\n",
    "\n",
    "\n",
    "\n",
    "#Dataset Description \n",
    " #No show -appointment is one of the available dataset to investigate for this project and I have decided to \n",
    " #go through this dataset. The size of  information, which  has  been collected and stored in this dataset,\n",
    "#about 100k medical appointment in  clinics in in Brazil. The main focus of this dataset to investigate if \n",
    "#the patient show up for their  appointment . Different data about patient are stored such as Patient Id, gender, \n",
    "#Age. It also  store the location of hospital which  values are stored in  the column “Neighbourhood “.The last \n",
    "#column define if the patient showed their appointment : it stores the value “No” if patient showed up and  “\n",
    "#Yes” if the patient did not show up \n",
    "\n",
    "#q1:show which Neighbourhood  is recieeving  patient and which one recive more patient\n",
    "#q2How many Neighbourhood  has clinic and hospital \n",
    "#q3 How many patient showed up thier appointment and not\n",
    "#Q4 show the number of patient based on Gender\n",
    "#Q5 shows the relation between age and Diabets\n",
    "\n",
    "\n",
    "\n",
    "\n",
    "\n",
    "#The imported libraries are panda , numpy and matplotlib.pyplot \n",
    "import pandas as mypd\n",
    "import numpy as mynp\n",
    "import matplotlib.pyplot as myplt\n",
    "import seaborn as sns\n",
    "import plotly.express as px\n",
    "#data loading \n",
    "mydata = mypd.read_csv(\"noshowappointments-kagglev2-may-2016.csv\")\n",
    "\n",
    "          \n",
    "\n",
    "     "
   ]
  },
  {
   "cell_type": "code",
   "execution_count": 396,
   "metadata": {},
   "outputs": [
    {
     "name": "stdout",
     "output_type": "stream",
     "text": [
      "(110527, 14)\n"
     ]
    }
   ],
   "source": [
    "## 1-Data  exploring \n",
    "##show many records and columns in dataset file\n",
    "print(mydata.shape)"
   ]
  },
  {
   "cell_type": "code",
   "execution_count": null,
   "metadata": {},
   "outputs": [],
   "source": [
    "## show datatypes\n",
    "mydata.dtypes"
   ]
  },
  {
   "cell_type": "code",
   "execution_count": null,
   "metadata": {},
   "outputs": [],
   "source": [
    "## extract the first five rows in dataset\n",
    "print(mydata.head)\n",
    "\n",
    "\n",
    "\n"
   ]
  },
  {
   "cell_type": "code",
   "execution_count": 461,
   "metadata": {},
   "outputs": [
    {
     "name": "stdout",
     "output_type": "stream",
     "text": [
      "<bound method NDFrame.describe of            PatientId  AppointmentID Gender          ScheduledDay  \\\n",
      "0       2.987250e+13        5642903      F  2016-04-29T18:38:08Z   \n",
      "1       5.589978e+14        5642503      M  2016-04-29T16:08:27Z   \n",
      "2       4.262962e+12        5642549      F  2016-04-29T16:19:04Z   \n",
      "3       8.679512e+11        5642828      F  2016-04-29T17:29:31Z   \n",
      "4       8.841186e+12        5642494      F  2016-04-29T16:07:23Z   \n",
      "...              ...            ...    ...                   ...   \n",
      "110522  2.572134e+12        5651768      F  2016-05-03T09:15:35Z   \n",
      "110523  3.596266e+12        5650093      F  2016-05-03T07:27:33Z   \n",
      "110524  1.557663e+13        5630692      F  2016-04-27T16:03:52Z   \n",
      "110525  9.213493e+13        5630323      F  2016-04-27T15:09:23Z   \n",
      "110526  3.775115e+14        5629448      F  2016-04-27T13:30:56Z   \n",
      "\n",
      "              AppointmentDay  Age      Neighbourhood  Scholarship  \\\n",
      "0       2016-04-29T00:00:00Z   62    JARDIM DA PENHA            0   \n",
      "1       2016-04-29T00:00:00Z   56    JARDIM DA PENHA            0   \n",
      "2       2016-04-29T00:00:00Z   62      MATA DA PRAIA            0   \n",
      "3       2016-04-29T00:00:00Z    8  PONTAL DE CAMBURI            0   \n",
      "4       2016-04-29T00:00:00Z   56    JARDIM DA PENHA            0   \n",
      "...                      ...  ...                ...          ...   \n",
      "110522  2016-06-07T00:00:00Z   56        MARIA ORTIZ            0   \n",
      "110523  2016-06-07T00:00:00Z   51        MARIA ORTIZ            0   \n",
      "110524  2016-06-07T00:00:00Z   21        MARIA ORTIZ            0   \n",
      "110525  2016-06-07T00:00:00Z   38        MARIA ORTIZ            0   \n",
      "110526  2016-06-07T00:00:00Z   54        MARIA ORTIZ            0   \n",
      "\n",
      "        Hipertension  Diabetes  Alcoholism  Handcap  SMS_received No-show  \n",
      "0                  1         0           0        0             0      No  \n",
      "1                  0         0           0        0             0      No  \n",
      "2                  0         0           0        0             0      No  \n",
      "3                  0         0           0        0             0      No  \n",
      "4                  1         1           0        0             0      No  \n",
      "...              ...       ...         ...      ...           ...     ...  \n",
      "110522             0         0           0        0             1      No  \n",
      "110523             0         0           0        0             1      No  \n",
      "110524             0         0           0        0             1      No  \n",
      "110525             0         0           0        0             1      No  \n",
      "110526             0         0           0        0             1      No  \n",
      "\n",
      "[110527 rows x 14 columns]>\n"
     ]
    }
   ],
   "source": [
    "## show summery statistic for numerical columns \n",
    "print(mydata.describe)"
   ]
  },
  {
   "cell_type": "code",
   "execution_count": null,
   "metadata": {},
   "outputs": [],
   "source": [
    "#extract the columns Name\n",
    "mydata.dtypes\n",
    "x= [mydata.head(0)]\n",
    "print(\"The columns are \",x)\n",
    "\n"
   ]
  },
  {
   "cell_type": "code",
   "execution_count": null,
   "metadata": {},
   "outputs": [],
   "source": [
    "# 2 data cleaning \n",
    "##Delets rows that have null values\n",
    "Nomissing_data = mydata.dropna()\n",
    "print(Nomissing_data.shape)\n",
    "\n",
    "## while the resuls of this code  is similar to the orignal dataset \"by yusing shape function\" , \n",
    "#this means there is  no null value .\n",
    "mydata.info()\n",
    "mydata.isnull().sum()\n",
    "## so no null values , based on output below\n"
   ]
  },
  {
   "cell_type": "code",
   "execution_count": null,
   "metadata": {},
   "outputs": [],
   "source": [
    "#Q1: show which Neighbourhood  is recieeving  patient and which one recive more patient \n",
    "\n",
    "mydata[\"Neighbourhood\"].value_counts()"
   ]
  },
  {
   "cell_type": "code",
   "execution_count": null,
   "metadata": {},
   "outputs": [],
   "source": [
    "#Q2: How many Neighbourhood  has clinic and hospital . \n",
    "#the output show we have 81 unique Neighbourhoods and the most visted areea is   JARDIM CAMBURI\n",
    "print(mydata[\"Neighbourhood\"].describe())\n"
   ]
  },
  {
   "cell_type": "code",
   "execution_count": null,
   "metadata": {},
   "outputs": [],
   "source": [
    "#Q3 How many patient showed up thier appointment and not\n",
    "# based on the dataset description,   the output shows 88208 patient show up for thier appointment \n",
    "\n",
    "print(mydata[\"No-show\"].describe())"
   ]
  },
  {
   "cell_type": "code",
   "execution_count": null,
   "metadata": {},
   "outputs": [],
   "source": [
    "##showing the oldest patient age :\n",
    "maxValue = mydata['Age'].max()\n",
    "print(\"The age of  oldest patient is\",maxValue)"
   ]
  },
  {
   "cell_type": "code",
   "execution_count": null,
   "metadata": {},
   "outputs": [],
   "source": [
    "##using function to print statistical values\n",
    "def mystatsticfunction():\n",
    "  print(\"max age is\", mydata[\"Age\"].max())\n",
    "print(\"mean age is\", mydata[\"Age\"].mean())\n",
    "print(\"the std value is\", mydata[\"Age\"].std())\n",
    "\n",
    "mystatsticfunction()"
   ]
  },
  {
   "cell_type": "code",
   "execution_count": null,
   "metadata": {},
   "outputs": [],
   "source": [
    "# showing the number of patient based on Gender\n",
    "mydata[\"Gender\"].value_counts()"
   ]
  },
  {
   "cell_type": "code",
   "execution_count": 287,
   "metadata": {},
   "outputs": [
    {
     "data": {
      "text/plain": [
       "Text(0, 0.5, 'Number of patient')"
      ]
     },
     "execution_count": 287,
     "metadata": {},
     "output_type": "execute_result"
    },
    {
     "data": {
      "image/png": "[encoded data removed]",
      "text/plain": [
       "<Figure size 432x288 with 1 Axes>"
      ]
     },
     "metadata": {
      "needs_background": "light"
     },
     "output_type": "display_data"
    }
   ],
   "source": [
    "# the char below  will show only ten Neighbourhood that have more patient.\n",
    "#Patient_Genderlist =mydata[\"Gender\"]\n",
    "mydata[\"Neighbourhood\"].value_counts().head(10).plot(kind=\"bar\")\n",
    "myplt.title(\"Patient number and neighbourhood \")\n",
    "myplt.xlabel('Neighbourhood')\n",
    "myplt.ylabel('Number of patient')\n",
    "\n"
   ]
  },
  {
   "cell_type": "code",
   "execution_count": null,
   "metadata": {},
   "outputs": [],
   "source": [
    "# The chart shows that,the largest number of patient treats in JARDIM CAMBURI Neighbourhood, it recieved moar \n",
    "#than 7000 ."
   ]
  },
  {
   "cell_type": "code",
   "execution_count": null,
   "metadata": {},
   "outputs": [],
   "source": [
    "# Q4 show the number of patient based on Gender\n",
    "mydata[\"Gender\"].value_counts()\n"
   ]
  },
  {
   "cell_type": "code",
   "execution_count": 205,
   "metadata": {},
   "outputs": [
    {
     "data": {
      "text/plain": [
       "Text(0.5, 1.0, ' patient Gender')"
      ]
     },
     "execution_count": 205,
     "metadata": {},
     "output_type": "execute_result"
    },
    {
     "data": {
      "image/png": "[encoded data removed]",
      "text/plain": [
       "<Figure size 432x288 with 1 Axes>"
      ]
     },
     "metadata": {},
     "output_type": "display_data"
    }
   ],
   "source": [
    "mydata[\"Gender\"].value_counts().plot(kind=\"pie\" )\n",
    "myplt.title(\"Patient gender and thier number \")\n",
    "myplt.legend(mydata[\"Gender\"])\n",
    "myplt.title(\" patient Gender\")\n",
    "\n",
    "\n"
   ]
  },
  {
   "cell_type": "code",
   "execution_count": null,
   "metadata": {},
   "outputs": [],
   "source": [
    "# the chart above shows patient gender, the majority of patient are female."
   ]
  },
  {
   "cell_type": "code",
   "execution_count": 280,
   "metadata": {},
   "outputs": [
    {
     "data": {
      "text/plain": [
       "Text(0, 0.5, 'Number of patient')"
      ]
     },
     "execution_count": 280,
     "metadata": {},
     "output_type": "execute_result"
    },
    {
     "data": {
      "image/png": "[encoded data removed]",
      "text/plain": [
       "<Figure size 432x288 with 1 Axes>"
      ]
     },
     "metadata": {
      "needs_background": "light"
     },
     "output_type": "display_data"
    }
   ],
   "source": [
    "\n",
    "\n",
    "mydata[\"No-show\"].value_counts().plot(kind=\"bar\")\n",
    "myplt.title( \"Number of patient VS ppointment show up \" )\n",
    "myplt.xlabel(' apointment show up   ')\n",
    "myplt.ylabel('Number of patient')"
   ]
  },
  {
   "cell_type": "code",
   "execution_count": null,
   "metadata": {},
   "outputs": [],
   "source": [
    " #The char above shows that the majority of patient show up for thier appointment "
   ]
  },
  {
   "cell_type": "code",
   "execution_count": 206,
   "metadata": {},
   "outputs": [
    {
     "data": {
      "text/plain": [
       "<matplotlib.legend.Legend at 0x7f82213839a0>"
      ]
     },
     "execution_count": 206,
     "metadata": {},
     "output_type": "execute_result"
    },
    {
     "data": {
      "image/png": "[encoded data removed]",
      "text/plain": [
       "<Figure size 432x288 with 1 Axes>"
      ]
     },
     "metadata": {
      "needs_background": "light"
     },
     "output_type": "display_data"
    }
   ],
   "source": [
    "## the following chart show the number of patient who reievef meesage and not \n",
    "## the value 0 represent \"no meesage recieved\n",
    "##the value 1 represent \" meesage recieved\n",
    "mydata[\"SMS_received\"].value_counts().plot(kind=\"bar\")\n",
    "myplt.title( \"Message receive\" )\n",
    "myplt.xlabel(' Message reminder  ')\n",
    "myplt.ylabel('Number of patient')\n"
   ]
  },
  {
   "cell_type": "code",
   "execution_count": 675,
   "metadata": {},
   "outputs": [],
   "source": [
    "#The chart shows that about more than 70000 patient not had message reminder."
   ]
  },
  {
   "cell_type": "code",
   "execution_count": 240,
   "metadata": {},
   "outputs": [
    {
     "data": {
      "text/plain": [
       "<matplotlib.legend.Legend at 0x7f81e879d6a0>"
      ]
     },
     "execution_count": 240,
     "metadata": {},
     "output_type": "execute_result"
    },
    {
     "data": {
      "image/png": "[encoded data removed]",
      "text/plain": [
       "<Figure size 432x288 with 1 Axes>"
      ]
     },
     "metadata": {
      "needs_background": "light"
     },
     "output_type": "display_data"
    }
   ],
   "source": [
    "#Q5 shows the relation between age and Diabets\n",
    "df_temp1 = mydata.groupby('Age').sum()['Diabetes']\n",
    "\n",
    "df_temp1.plot.line(x=\"Age\" , y='Diabetes')\n",
    "myplt.xlabel(\"Age\")\n",
    "myplt.ylabel (\"Number of patient \")\n",
    "myplt.title(\"Age Vs Diabetes\")\n",
    "myplt.legend()"
   ]
  },
  {
   "cell_type": "code",
   "execution_count": 238,
   "metadata": {},
   "outputs": [],
   "source": [
    "# This char shows the relation between age and Diabets.Diabets is more common for patient between 40 and 80.\n"
   ]
  },
  {
   "cell_type": "code",
   "execution_count": 773,
   "metadata": {},
   "outputs": [],
   "source": [
    "#conlusion and finding \n",
    "#The number of locations clinics is 81 locations, and  the neighbourhood that has received the \n",
    "#most number of patient is JARDIM CAMBURI and the number is  7717 , while PARQUE INDUSTRIAL  has \n",
    "#received the lowest number which is only one patient .After investigation the dataset, I found  \n",
    "#the majority of patient show up their appointment,88208 patient has showed  up their appointment . \n",
    "#Moreoverthe maximum age of patient is 115, and the majority of patient are female.\n",
    "\n"
   ]
  },
  {
   "cell_type": "code",
   "execution_count": 236,
   "metadata": {},
   "outputs": [],
   "source": []
  },
  {
   "cell_type": "code",
   "execution_count": null,
   "metadata": {},
   "outputs": [],
   "source": []
  },
  {
   "cell_type": "code",
   "execution_count": null,
   "metadata": {},
   "outputs": [],
   "source": []
  },
  {
   "cell_type": "code",
   "execution_count": null,
   "metadata": {},
   "outputs": [],
   "source": []
  }
 ],
 "metadata": {
  "kernelspec": {
   "display_name": "Python 3",
   "language": "python",
   "name": "python3"
  },
  "language_info": {
   "codemirror_mode": {
    "name": "ipython",
    "version": 3
   },
   "file_extension": ".py",
   "mimetype": "text/x-python",
   "name": "python",
   "nbconvert_exporter": "python",
   "pygments_lexer": "ipython3",
   "version": "3.8.3"
  }
 },
 "nbformat": 4,
 "nbformat_minor": 4
}
